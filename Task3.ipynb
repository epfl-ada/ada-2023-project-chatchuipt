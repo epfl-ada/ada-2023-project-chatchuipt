{
 "cells": [
  {
   "cell_type": "markdown",
   "metadata": {},
   "source": [
    "# **TASK 3** : "
   ]
  },
  {
   "cell_type": "code",
   "execution_count": 1,
   "metadata": {},
   "outputs": [],
   "source": [
    "import pandas as pd\n",
    "import numpy as np\n",
    "import matplotlib.pyplot as plt\n",
    "import seaborn as sns\n",
    "import pickle\n",
    "import folium\n",
    "from geopy.geocoders import Nominatim\n",
    "from IPython.display import display\n",
    "import statsmodels.api as sm\n",
    "from statsmodels.tsa.seasonal import STL\n",
    "from sklearn.linear_model import LinearRegression, LogisticRegression, Ridge\n",
    "import os\n",
    "#run helper_functions.ipynb"
   ]
  },
  {
   "cell_type": "code",
   "execution_count": 7,
   "metadata": {},
   "outputs": [],
   "source": [
    "FOLDER_RB = './data/RateBeer/'\n",
    "beers_rb = pd.read_csv(FOLDER_RB + 'beers.csv')\n",
    "breweries_rb = pd.read_csv(FOLDER_RB + 'breweries.csv')\n",
    "users_rb = pd.read_csv(FOLDER_RB + 'users.csv')\n",
    "\n",
    "ratings_rb = pd.read_csv(FOLDER_RB + 'ratings_rb_clean.csv')\n",
    "\n",
    "user_ratings_rb= users_rb.merge(ratings_rb, how = 'right', on = 'user_id')\n",
    "\n",
    "user_ratings_rb['date'] = pd.to_datetime(user_ratings_rb['date'], unit='s')\n",
    "user_ratings_rb['joined'] = pd.to_datetime(user_ratings_rb['joined'], unit='s')\n",
    "\n",
    "user_ratings_rb['month'] = user_ratings_rb['date'].dt.month\n",
    "user_ratings_rb['year'] = user_ratings_rb['date'].dt.year\n",
    "user_ratings_rb['year_month'] = user_ratings_rb['date'].dt.to_period('M')\n",
    "\n",
    "user_ratings_rb.drop(['Unnamed: 0', 'user_name_y'], axis = 1, inplace = True)\n",
    "\n",
    "user_ratings_rb.rename(columns = {'user_name_x': 'user_name'}, inplace = True)\n",
    "\n",
    "user_ratings_rb = user_ratings_rb.dropna(subset=['location'])\n",
    "all_beer_all_world_rb = user_ratings_rb[\n",
    "    (user_ratings_rb['year'] >= 2010) &\n",
    "    (user_ratings_rb['year'] <= 2016)\n",
    "]\n",
    "\n",
    "all_beer_all_world_rb = user_ratings_rb[\n",
    "    (user_ratings_rb['year'] >= 2010) &\n",
    "    (user_ratings_rb['year'] <= 2016)\n",
    "]"
   ]
  },
  {
   "cell_type": "code",
   "execution_count": 9,
   "metadata": {},
   "outputs": [],
   "source": [
    "all_beer_ratings_all_world_rb = all_beer_all_world_rb.groupby('year_month')[\"rating\"].count()"
   ]
  },
  {
   "cell_type": "code",
   "execution_count": 10,
   "metadata": {},
   "outputs": [],
   "source": [
    "ipa_all_world_rb = all_beer_all_world_rb[(all_beer_all_world_rb['style'] == 'India Pale Ale (IPA)')]\n",
    "ipa_ratings_per_month_all_world_rb = ipa_all_world_rb.groupby('year_month')[\"rating\"].count()\n",
    "ipa_ratings_perc_rb = ipa_ratings_per_month_all_world_rb / all_beer_ratings_all_world_rb\n",
    "\n",
    "#Convert the index to timestamp\n",
    "ipa_ratings_perc_rb.index = ipa_ratings_perc_rb.index.to_timestamp()\n",
    "\n",
    "#de juin a octobre season !!"
   ]
  },
  {
   "cell_type": "code",
   "execution_count": 11,
   "metadata": {},
   "outputs": [],
   "source": [
    "pilsener = all_beer_all_world_rb[(all_beer_all_world_rb['style'] == 'Pilsener')]\n",
    "pilsener_per_month_all_world_rb = pilsener.groupby('year_month')[\"rating\"].count()\n",
    "pilsener_ratings_perc_rb = pilsener_per_month_all_world_rb / all_beer_ratings_all_world_rb\n",
    "\n",
    "# Convert the index to timestamp\n",
    "pilsener_ratings_perc_rb.index = pilsener_ratings_perc_rb.index.to_timestamp()\n",
    "\n",
    "#pic en juillet --> ete beer"
   ]
  },
  {
   "cell_type": "code",
   "execution_count": 14,
   "metadata": {},
   "outputs": [],
   "source": [
    "belg_strong_ale_rb = all_beer_all_world_rb[(all_beer_all_world_rb['style'] == 'Belgian Strong Ale')]\n",
    "belg_strong_ale_per_month_all_world_rb = belg_strong_ale_rb.groupby('year_month')[\"rating\"].count()\n",
    "belg_strong_ale_ratings_perc_rb = belg_strong_ale_per_month_all_world_rb / all_beer_ratings_all_world_rb\n",
    "\n",
    "# Convert the index to timestamp\n",
    "belg_strong_ale_ratings_perc_rb.index = belg_strong_ale_ratings_perc_rb.index.to_timestamp()\n",
    "\n",
    "# pic en decembre - janvier --> bière d'hiver"
   ]
  },
  {
   "cell_type": "code",
   "execution_count": 39,
   "metadata": {},
   "outputs": [
    {
     "data": {
      "image/png": "[encoded data removed]",
      "text/plain": [
       "<Figure size 1400x400 with 4 Axes>"
      ]
     },
     "metadata": {},
     "output_type": "display_data"
    }
   ],
   "source": [
    "fig, axes = plt.subplots(nrows = 1, ncols = 4, figsize = (14, 4), sharey=True)\n",
    "\n",
    "#Panel A: accepted vs rejected\n",
    "axes[0].boxplot([belg_strong_ale_rb['aroma'], pilsener['aroma'], ipa_all_world_rb['aroma']], labels = ['belg', 'pilsener','ipa' ])\n",
    "axes[0].set_title('Aroma')\n",
    "axes[0].set_xlabel('beer style')\n",
    "axes[0].set_ylabel('Overall Score Average ')\n",
    "\n",
    "#Panel A: rebuttals vs no rebuttals\n",
    "axes[1].boxplot([belg_strong_ale_rb['appearance'], pilsener['appearance'], ipa_all_world_rb['appearance']], labels = ['belg', 'pilsener', 'ipa'])\n",
    "axes[1].set_title('Appearance')\n",
    "axes[1].set_xlabel('beer style')\n",
    "#axes[1].set_ylabel('Overall Score Average ')\n",
    "\n",
    "axes[2].boxplot([belg_strong_ale_rb['palate'], pilsener['palate'], ipa_all_world_rb['palate']], labels = ['belg', 'pilsener', 'ipa'])\n",
    "axes[2].set_title('palate')\n",
    "axes[2].set_xlabel('beer style')\n",
    "#axes[2].set_ylabel('Overall Score Average ')\n",
    "\n",
    "axes[3].boxplot([belg_strong_ale_rb['taste'], pilsener['taste'], ipa_all_world_rb['taste']], labels = ['belg', 'pilsener', 'ipa'])\n",
    "axes[3].set_title('taste')\n",
    "axes[3].set_xlabel('beer style')\n",
    "#axes[3].set_ylabel('Overall Score Average ')\n",
    "\n",
    "\n",
    "plt.show()"
   ]
  },
  {
   "cell_type": "markdown",
   "metadata": {},
   "source": []
  }
 ],
 "metadata": {
  "kernelspec": {
   "display_name": "base",
   "language": "python",
   "name": "python3"
  },
  "language_info": {
   "codemirror_mode": {
    "name": "ipython",
    "version": 3
   },
   "file_extension": ".py",
   "mimetype": "text/x-python",
   "name": "python",
   "nbconvert_exporter": "python",
   "pygments_lexer": "ipython3",
   "version": "3.9.13"
  }
 },
 "nbformat": 4,
 "nbformat_minor": 2
}
