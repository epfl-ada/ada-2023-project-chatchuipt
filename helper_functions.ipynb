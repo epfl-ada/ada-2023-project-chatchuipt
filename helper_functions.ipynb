{
 "cells": [
  {
   "cell_type": "markdown",
   "id": "2973284a-70ac-4593-a37b-14a2926edc20",
   "metadata": {},
   "source": [
    "## Helper Functions and other functions not shown in the main notebook"
   ]
  },
  {
   "cell_type": "markdown",
   "id": "2d1514c6-49f8-417a-86d9-c4e730ee8ee3",
   "metadata": {},
   "source": [
    "**Convert .txt files to dataframes (which will be converted to csv afterwards**"
   ]
  },
  {
   "cell_type": "code",
   "execution_count": 1,
   "id": "85cb7505-0e9e-4b5d-a2cf-57935e285e0f",
   "metadata": {
    "tags": []
   },
   "outputs": [],
   "source": [
    "def text_to_df (file_path):\n",
    "\n",
    "    # List to keep dictionaries for each beer\n",
    "    beers_dic = []\n",
    "\n",
    "    # A temporary dictionary to store data for each beer\n",
    "    current_beer = {}\n",
    "\n",
    "    with open(file_path, 'r', encoding='utf-8') as file:\n",
    "        for line in file:\n",
    "            # Split the line using the first colon found\n",
    "            parts = line.split(':', 1)\n",
    "            if len(parts) == 2:\n",
    "                key = parts[0].strip()\n",
    "                value = parts[1].strip()\n",
    "                # Add/update the key in the current beer dictionary\n",
    "                current_beer[key] = value\n",
    "           # If you encounter an empty line, it signifies the end of a beer record\n",
    "            if line.strip() == '':\n",
    "                beers_dic.append(current_beer)\n",
    "                current_beer = {}\n",
    "\n",
    "   # Make sure to add the last beer if the file doesn't end with an empty line\n",
    "    if current_beer:\n",
    "        beers_dic.append(current_beer)\n",
    "\n",
    " # Create a DataFrame from the list of beer dictionaries\n",
    "    return pd.DataFrame(beers_dic)"
   ]
  },
  {
   "cell_type": "markdown",
   "id": "85ed8794-56c7-4e75-8e54-b8a23c2d8095",
   "metadata": {},
   "source": [
    "**Create maps using geopy**"
   ]
  },
  {
   "cell_type": "code",
   "execution_count": 2,
   "id": "451ebbe3-1062-41ff-a9bb-12b50c352711",
   "metadata": {
    "tags": []
   },
   "outputs": [],
   "source": [
    "def get_coordinates(country):\n",
    "    # Initialize a geolocator using Nominatim with a specific user_agent\n",
    "    geolocator = Nominatim(user_agent=\"geoapiExercices\")\n",
    "    try:\n",
    "        # obtain the location (latitude and longitude) for the given country\n",
    "        location = geolocator.geocode(country, language='en')\n",
    "        return (location.latitude,location.longitude)\n",
    "    except:\n",
    "        return (None,None)"
   ]
  },
  {
   "cell_type": "code",
   "execution_count": 3,
   "id": "91b34115-0b0c-4810-bb8f-65b6c38b091a",
   "metadata": {
    "tags": []
   },
   "outputs": [],
   "source": [
    "def plot_map_ratings (user_ratings):\n",
    "    # Count the number of ratings for each country\n",
    "    country_counts = user_ratings['country'].value_counts().reset_index()\n",
    "    # Rename columns\n",
    "    country_counts.columns = ['country', 'nbr_ratings']\n",
    "    # Add a new column 'Coordinates'\n",
    "    country_counts['Coordinates'] = country_counts['country'].apply(get_coordinates)\n",
    "    # Initialize a Folium map with an initial center at latitude 0 and longitude 0\n",
    "    m = folium.Map(location=[0,0],zoom_start=2)\n",
    "    \n",
    "    # Iterate over each row in the country_counts dataFrame\n",
    "    for _, row in country_counts.iterrows():\n",
    "        # Check if coordinates for the country are available\n",
    "        if row['Coordinates'][0] is not None:\n",
    "            # Add a Circle marker to the map for each country\n",
    "            folium.Circle(\n",
    "                location= row['Coordinates'],\n",
    "                radius= row['nbr_ratings'],\n",
    "                color= 'crimson',\n",
    "                fill= True,\n",
    "                fill_color= 'crimson',\n",
    "                popup='{}: {} ratings'.format(row['country'], row['nbr_ratings'])\n",
    "            ).add_to(m)\n",
    "            \n",
    "    return m"
   ]
  },
  {
   "cell_type": "markdown",
   "id": "255d9f82-19d6-4658-b83b-90790005cb56",
   "metadata": {},
   "source": [
    "**Plot the general trends, the seasonal trends, and the noise**"
   ]
  },
  {
   "cell_type": "code",
   "execution_count": 4,
   "id": "5b6fa934-49ed-47cd-bbbd-d4a105bb619a",
   "metadata": {
    "tags": []
   },
   "outputs": [],
   "source": [
    "def plot_STL(ratings_per_month, type):\n",
    "\n",
    "    # Apply Seasonal-Trend decomposition using LOESS (STL)\n",
    "    stl = STL(ratings_per_month, seasonal=13, period=12)\n",
    "    result = stl.fit() # fit the model\n",
    "\n",
    "    # Extract components from the decomposition\n",
    "    trend = result.trend\n",
    "    seasonal = result.seasonal\n",
    "    residual = result.resid\n",
    "\n",
    "    # Create 4 subplot figure\n",
    "    plt.figure(figsize=(10, 6))\n",
    "\n",
    "    # Subplot 1: Trend\n",
    "    plt.subplot(411)\n",
    "    plt.plot(trend, label='Trend', color = type)\n",
    "    plt.legend(loc='best')\n",
    "    plt.grid()\n",
    "\n",
    "    # Subplot 2: Seasonality\n",
    "    plt.subplot(412)\n",
    "    plt.plot(seasonal,label='Seasonality', color = type)\n",
    "    plt.legend(loc='best')\n",
    "    plt.grid()\n",
    "\n",
    "      # Subplot 3: Residuals\n",
    "    plt.subplot(413, sharey=plt.gca())\n",
    "    plt.plot(residual, label='Residuals', color=type)\n",
    "    plt.legend(loc='best')\n",
    "    plt.tight_layout()\n",
    "    plt.grid()\n",
    "\n",
    "    # Subplot 4: Placeholder for potential additional plots\n",
    "    plt.subplot(414)\n",
    "    plt.axis('off')"
   ]
  },
  {
   "cell_type": "markdown",
   "id": "a5c53a58-6aeb-4976-81b0-dc55c5729d5f",
   "metadata": {},
   "source": [
    "**Compute the proportion of number of ratings for a beer subset**"
   ]
  },
  {
   "cell_type": "code",
   "execution_count": 6,
   "id": "5a056c77-7057-47c1-8ad7-6e5886de6873",
   "metadata": {
    "tags": []
   },
   "outputs": [],
   "source": [
    "def proportion_nbr_ratings(df, beer_subset, date_start, date_end):\n",
    "    \n",
    "    \"\"\"\n",
    "    Given a subset of beers, a start date and end date, returns the proportion of number of ratings per month\n",
    "    (i.e. number of ratings of the beer subset normalized according to the number of ratings for all beers)\n",
    "    of the subset in the given period.\n",
    "    \n",
    "    df: global dataframe, considering all the beers\n",
    "    beer_subset: subset of beers (generally a subset of df)\n",
    "    date_start: first date to consider\n",
    "    date_end: last date to consider\n",
    "    \"\"\"\n",
    "    \n",
    "    # filter the dataframe information from date_start to date_end\n",
    "    #for all the beers\n",
    "    all_beers = df[\n",
    "        (df['year'] >= date_start) &\n",
    "        (df['year'] <= date_end)\n",
    "    ]\n",
    "    \n",
    "    #for the beer subset\n",
    "    beer_subset = beer_subset[\n",
    "        (beer_subset['year'] >= date_start) &\n",
    "        (beer_subset['year'] <= date_end)\n",
    "    ]\n",
    "\n",
    "    #Define the number of ratings per month for all beers around the world\n",
    "    all_beer_ratings = all_beers.groupby('year_month')[\"rating\"].count() \n",
    "    \n",
    "    #Number of ratings per month\n",
    "    beer_subset_nbr_ratings_per_month = beer_subset.groupby('year_month')[\"rating\"].count()\n",
    "\n",
    "    #Proportion of number of ratings per month\n",
    "    beer_subset_prop_nbr_ratings = beer_subset_nbr_ratings_per_month / all_beer_ratings\n",
    "    \n",
    "    return beer_subset_prop_nbr_ratings"
   ]
  },
  {
   "cell_type": "markdown",
   "id": "3e3448c1-ed07-4ac1-9d7b-92edaa0fd19f",
   "metadata": {},
   "source": [
    "**Compute the standardized ratings (the grade) for a beer subset**"
   ]
  },
  {
   "cell_type": "code",
   "execution_count": 11,
   "id": "deaf14f3-2b14-4c43-8349-6936434755f0",
   "metadata": {
    "tags": []
   },
   "outputs": [],
   "source": [
    "def rates_standardized(df, beer_subset, date_start, date_end):\n",
    "    \n",
    "    \"\"\"\n",
    "    Given a subset of beers, a start date and end date, returns the standardized mean rate per month\n",
    "    (i.e. z-scores), of the subset in the given period.\n",
    "    \"\"\"\n",
    "    \n",
    "    # filter the dataframe information from date_start to date_end\n",
    "    all_beers = df[\n",
    "        (df['year'] >= date_start) &\n",
    "        (df['year'] <= date_end)\n",
    "    ]\n",
    "    \n",
    "    beer_subset = beer_subset[\n",
    "        (beer_subset['year'] >= date_start) &\n",
    "        (beer_subset['year'] <= date_end)\n",
    "    ]\n",
    "    \n",
    "    #Compute mean and variance of rate for the beer style, in the defined period\n",
    "    mean_rate = beer_subset['rating'].mean()\n",
    "    std_rate = beer_subset['rating'].std()\n",
    "\n",
    "    #Mean Rate per month\n",
    "    beer_subset_rate_per_month = beer_subset.groupby('year_month')[\"rating\"].mean()\n",
    "\n",
    "    #Proportion of number of ratings per month\n",
    "    beer_subset_z_score = (beer_subset_rate_per_month - mean_rate) / std_rate\n",
    "    \n",
    "    return beer_subset_z_score"
   ]
  },
  {
   "cell_type": "markdown",
   "id": "15d293a6-7c47-4dde-b1fb-ab6116dc96b9",
   "metadata": {},
   "source": [
    "**Plot the seasonal trends, given roportion of ratings per month, or ratings per month...**"
   ]
  },
  {
   "cell_type": "code",
   "execution_count": 8,
   "id": "2a9afdc8-75e7-4332-ba9b-578cdb912a27",
   "metadata": {
    "tags": []
   },
   "outputs": [],
   "source": [
    "def plot_seasonal_trends(beer_feature, title, ylabel, color, month_increment=3):\n",
    "    \n",
    "    \"\"\"\n",
    "    Given a pandas Series showing the feature of a beer subset per month (e.g. rates per month)\n",
    "    returns plots showing the seasonal trend for this particular feature\n",
    "    \n",
    "    beer_feature: pandas Series with per month values\n",
    "    title: title of the plot\n",
    "    ylabel: label of the y axis, depending on the chosen feature (e.g. rate, or proportion of number of ratings)\n",
    "    color: plot color\n",
    "    month_increment: intervals of month to display. this only affects the labels, not the computation.\n",
    "    \"\"\"\n",
    "    \n",
    "    plt.figure(figsize = (14,4))\n",
    "    x = beer_feature.index.astype(str)\n",
    "    plt.plot(x, beer_feature.values, marker = 'o', color = color)\n",
    "    plt.xlabel('Month')\n",
    "    plt.ylabel(ylabel)\n",
    "    plt.title(title)\n",
    "\n",
    "    #We show only labels by intervals of 3 months, to have a clearer visualisation \n",
    "    plt.xticks(rotation = 90, fontsize = 9)\n",
    "    tick_positions = range(0, len(x), month_increment)\n",
    "    plt.xticks(tick_positions, [x[i] for i in tick_positions], rotation=45)\n",
    "    \n",
    "    plt.grid()\n",
    "    plt.show()\n",
    "\n",
    "    #Convert the index to timestamp. A new variable is created to avoid changing the original dataframe\n",
    "    beer_feature_STL = beer_feature.copy()\n",
    "    beer_feature_STL.index = beer_feature_STL.index.to_timestamp()\n",
    "\n",
    "    #Plot seasonal trends\n",
    "    plot_STL(beer_feature_STL, color)"
   ]
  },
  {
   "cell_type": "markdown",
   "id": "7a00240277820c8d",
   "metadata": {},
   "source": [
    "# A enlever : "
   ]
  },
  {
   "cell_type": "code",
   "execution_count": 31,
   "id": "14f414847caecfc1",
   "metadata": {
    "collapsed": false,
    "jupyter": {
     "outputs_hidden": false
    }
   },
   "outputs": [],
   "source": [
    "def plot_seasonal_pattern_nbr_ratings_rb(dataframe, beer_style, color):\n",
    "    \"\"\"\n",
    "    \n",
    "    :param dataframe: pd.DataFrame\n",
    "    :param beer_style: string \n",
    "    :return: the plot of the number of ratings for a beer style between 2010 and 2016 and the STL plot\n",
    "    \"\"\"\n",
    "    all_beer_df = dataframe[\n",
    "        (dataframe['year'] >= 2010) &\n",
    "        (dataframe['year'] <= 2016)\n",
    "        ]\n",
    "    all_beer_ratings_df = all_beer_df.groupby('year_month')[\"rating\"].count()\n",
    "    beer_style_df = all_beer_df[(all_beer_df['style'] == beer_style)]\n",
    "    ratings_per_month_df = beer_style_df.groupby('year_month')[\"rating\"].count()\n",
    "    ratings_perc_df = ratings_per_month_df / all_beer_ratings_df\n",
    "\n",
    "    #Convert the index to timestamp\n",
    "    ratings_perc_df.index = ratings_perc_df.index.to_timestamp()\n",
    "    plt.figure(figsize = (14,4))\n",
    "    plt.plot(ratings_perc_df.index.astype(str), ratings_perc_df.values, marker = 'o', color = color)\n",
    "    plt.xlabel('Month')\n",
    "    plt.ylabel('% of the number of ratings relative to total number of ratings')\n",
    "    plt.title(beer_style)\n",
    "    plt.xticks(rotation = 90, fontsize = 9)\n",
    "    plt.show()\n",
    "    plot_STL(ratings_perc_df, color)"
   ]
  },
  {
   "cell_type": "markdown",
   "id": "9562c0853b773dcc",
   "metadata": {},
   "source": [
    "Plot seasonal pattern of the number of ratings depending on type abv"
   ]
  },
  {
   "cell_type": "code",
   "execution_count": 34,
   "id": "c598c0e0b6d26467",
   "metadata": {
    "collapsed": false,
    "jupyter": {
     "outputs_hidden": false
    }
   },
   "outputs": [],
   "source": [
    "def plot_seasonal_pattern_abv_rb(dataframe, abv_type, color):\n",
    "    \"\"\"\n",
    "    \n",
    "    :param dataframe: pd.DataFrame\n",
    "    :param abv_type: string \n",
    "    :param color: string\n",
    "    :return: the plot of the number of ratings for a beer style between 2010 and 2016 and the STL plot\n",
    "    \"\"\"\n",
    "    all_beer_df = dataframe[\n",
    "        (dataframe['year'] >= 2010) &\n",
    "        (dataframe['year'] <= 2016)\n",
    "        ]\n",
    "    all_beer_abv_df = all_beer_df.groupby('year_month')[\"abv\"].count()\n",
    "    if abv_type == 'strong':\n",
    "        beer_abv_type_df = all_beer_df[(all_beer_df['abv'] >=8.)]\n",
    "    elif abv_type == 'light':\n",
    "        beer_abv_type_df = all_beer_df[(all_beer_df['abv'] <=5.)]\n",
    "    ratings_per_month_df = beer_abv_type_df.groupby('year_month')[\"rating\"].count()\n",
    "    ratings_perc_df = ratings_per_month_df / all_beer_abv_df\n",
    "\n",
    "    #Convert the index to timestamp\n",
    "    ratings_perc_df.index = ratings_perc_df.index.to_timestamp()\n",
    "    plt.figure(figsize=(14, 4))\n",
    "    plt.plot(ratings_perc_df.index.astype(str), ratings_perc_df.values, marker='o', color=color)\n",
    "    plt.xlabel('Month')\n",
    "    plt.ylabel('% of the number of ratings relative to total number of ratings')\n",
    "    plt.title(abv_type)\n",
    "    plt.xticks(rotation=90, fontsize=9)\n",
    "    plt.show()\n",
    "    plot_STL(ratings_perc_df, color)"
   ]
  }
 ],
 "metadata": {
  "kernelspec": {
   "display_name": "Python 3 (ipykernel)",
   "language": "python",
   "name": "python3"
  },
  "language_info": {
   "codemirror_mode": {
    "name": "ipython",
    "version": 3
   },
   "file_extension": ".py",
   "mimetype": "text/x-python",
   "name": "python",
   "nbconvert_exporter": "python",
   "pygments_lexer": "ipython3",
   "version": "3.11.4"
  }
 },
 "nbformat": 4,
 "nbformat_minor": 5
}
