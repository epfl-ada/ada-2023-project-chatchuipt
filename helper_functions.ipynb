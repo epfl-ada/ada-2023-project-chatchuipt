{
 "cells": [
  {
   "cell_type": "markdown",
   "id": "2973284a-70ac-4593-a37b-14a2926edc20",
   "metadata": {},
   "source": [
    "## Helper Functions and other functions not shown in the main notebook"
   ]
  },
  {
   "cell_type": "markdown",
   "id": "2d1514c6-49f8-417a-86d9-c4e730ee8ee3",
   "metadata": {},
   "source": [
    "**Convert .txt files to dataframes (which will be converted to csv afterwards**"
   ]
  },
  {
   "cell_type": "code",
   "execution_count": 4,
   "id": "85cb7505-0e9e-4b5d-a2cf-57935e285e0f",
   "metadata": {
    "tags": []
   },
   "outputs": [],
   "source": [
    "def text_to_df (file_path):\n",
    "\n",
    "    # List to keep dictionaries for each beer\n",
    "    beers_dic = []\n",
    "\n",
    "    # A temporary dictionary to store data for each beer\n",
    "    current_beer = {}\n",
    "\n",
    "    with open(file_path, 'r', encoding='utf-8') as file:\n",
    "        for line in file:\n",
    "            # Split the line using the first colon found\n",
    "            parts = line.split(':', 1)\n",
    "            if len(parts) == 2:\n",
    "                key = parts[0].strip()\n",
    "                value = parts[1].strip()\n",
    "                # Add/update the key in the current beer dictionary\n",
    "                current_beer[key] = value\n",
    "           # If you encounter an empty line, it signifies the end of a beer record\n",
    "            if line.strip() == '':\n",
    "                beers_dic.append(current_beer)\n",
    "                current_beer = {}\n",
    "\n",
    "   # Make sure to add the last beer if the file doesn't end with an empty line\n",
    "    if current_beer:\n",
    "        beers_dic.append(current_beer)\n",
    "\n",
    " # Create a DataFrame from the list of beer dictionaries\n",
    "    return pd.DataFrame(beers_dic)"
   ]
  },
  {
   "cell_type": "markdown",
   "id": "85ed8794-56c7-4e75-8e54-b8a23c2d8095",
   "metadata": {},
   "source": [
    "**Create maps using geopy**"
   ]
  },
  {
   "cell_type": "code",
   "execution_count": 5,
   "id": "451ebbe3-1062-41ff-a9bb-12b50c352711",
   "metadata": {
    "tags": []
   },
   "outputs": [],
   "source": [
    "def get_coordinates(country):\n",
    "    # Initialize a geolocator using Nominatim with a specific user_agent\n",
    "    geolocator = Nominatim(user_agent=\"geoapiExercices\")\n",
    "    try:\n",
    "        # obtain the location (latitude and longitude) for the given country\n",
    "        location = geolocator.geocode(country, language='en')\n",
    "        return (location.latitude,location.longitude)\n",
    "    except:\n",
    "        return (None,None)"
   ]
  },
  {
   "cell_type": "code",
   "execution_count": 6,
   "id": "91b34115-0b0c-4810-bb8f-65b6c38b091a",
   "metadata": {
    "tags": []
   },
   "outputs": [],
   "source": [
    "def plot_map_ratings (user_ratings):\n",
    "    # Count the number of ratings for each country\n",
    "    country_counts = user_ratings['country'].value_counts().reset_index()\n",
    "    # Rename columns\n",
    "    country_counts.columns = ['country', 'nbr_ratings']\n",
    "    # Add a new column 'Coordinates'\n",
    "    country_counts['Coordinates'] = country_counts['country'].apply(get_coordinates)\n",
    "    # Initialize a Folium map with an initial center at latitude 0 and longitude 0\n",
    "    m = folium.Map(location=[0,0],zoom_start=2)\n",
    "    \n",
    "    # Iterate over each row in the country_counts dataFrame\n",
    "    for _, row in country_counts.iterrows():\n",
    "        # Check if coordinates for the country are available\n",
    "        if row['Coordinates'][0] is not None:\n",
    "            # Add a Circle marker to the map for each country\n",
    "            folium.Circle(\n",
    "                location= row['Coordinates'],\n",
    "                radius= row['nbr_ratings'],\n",
    "                color= 'crimson',\n",
    "                fill= True,\n",
    "                fill_color= 'crimson',\n",
    "                popup='{}: {} ratings'.format(row['country'], row['nbr_ratings'])\n",
    "            ).add_to(m)\n",
    "            \n",
    "    return m"
   ]
  },
  {
   "cell_type": "markdown",
   "id": "255d9f82-19d6-4658-b83b-90790005cb56",
   "metadata": {},
   "source": [
    "**Plot the general trends, the seasonal trends, and the noise**"
   ]
  },
  {
   "cell_type": "code",
   "execution_count": 7,
   "id": "5b6fa934-49ed-47cd-bbbd-d4a105bb619a",
   "metadata": {
    "tags": []
   },
   "outputs": [],
   "source": [
    "def plot_STL(ratings_per_month, type):\n",
    "\n",
    "    # Apply Seasonal-Trend decomposition using LOESS (STL)\n",
    "    stl = STL(ratings_per_month, seasonal=13, period=12)\n",
    "    result = stl.fit() # fit the model\n",
    "\n",
    "    # Extract components from the decomposition\n",
    "    trend = result.trend\n",
    "    seasonal = result.seasonal\n",
    "    residual = result.resid\n",
    "\n",
    "    # Create 4 subplot figure\n",
    "    plt.figure(figsize=(10, 6))\n",
    "\n",
    "    # Subplot 1: Trend\n",
    "    plt.subplot(411)\n",
    "    plt.plot(trend, label='Trend', color = type)\n",
    "    plt.legend(loc='best')\n",
    "\n",
    "    # Subplot 2: Seasonality\n",
    "    plt.subplot(412)\n",
    "    plt.plot(seasonal,label='Seasonality', color = type)\n",
    "    plt.legend(loc='best')\n",
    "\n",
    "    # Subplot 3: Residuals\n",
    "    plt.subplot(413)\n",
    "    plt.plot(residual, label='Residuals', color = type)\n",
    "    plt.legend(loc='best')\n",
    "    plt.tight_layout()"
   ]
  }
 ],
 "metadata": {
  "kernelspec": {
   "display_name": "Python 3 (ipykernel)",
   "language": "python",
   "name": "python3"
  },
  "language_info": {
   "codemirror_mode": {
    "name": "ipython",
    "version": 3
   },
   "file_extension": ".py",
   "mimetype": "text/x-python",
   "name": "python",
   "nbconvert_exporter": "python",
   "pygments_lexer": "ipython3",
   "version": "3.11.4"
  }
 },
 "nbformat": 4,
 "nbformat_minor": 5
}
